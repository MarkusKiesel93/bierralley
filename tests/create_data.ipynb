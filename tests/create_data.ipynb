{
 "metadata": {
  "language_info": {
   "codemirror_mode": {
    "name": "ipython",
    "version": 3
   },
   "file_extension": ".py",
   "mimetype": "text/x-python",
   "name": "python",
   "nbconvert_exporter": "python",
   "pygments_lexer": "ipython3",
   "version": "3.8.7-final"
  },
  "orig_nbformat": 2,
  "kernelspec": {
   "name": "python3",
   "display_name": "Python 3",
   "language": "python"
  }
 },
 "nbformat": 4,
 "nbformat_minor": 2,
 "cells": [
  {
   "cell_type": "code",
   "execution_count": 1,
   "metadata": {},
   "outputs": [],
   "source": [
    "import pandas as pd\n",
    "import numpy as np\n",
    "import random"
   ]
  },
  {
   "cell_type": "code",
   "execution_count": 2,
   "metadata": {},
   "outputs": [],
   "source": [
    "df = pd.read_csv('./MOCK_DATA.csv')"
   ]
  },
  {
   "cell_type": "code",
   "execution_count": 3,
   "metadata": {},
   "outputs": [],
   "source": [
    "def create_field_with_blank(num, choices):\n",
    "    vals = []\n",
    "    for n in range(num):\n",
    "        choice = random.choice(drinks)\n",
    "        if random.random() < 0.3:\n",
    "            choice = None\n",
    "        vals.append(choice)\n",
    "    return vals"
   ]
  },
  {
   "cell_type": "code",
   "execution_count": 4,
   "metadata": {},
   "outputs": [],
   "source": [
    "drinks = [\n",
    "    'Bier',\n",
    "    'Wein + Mineral',\n",
    "    'Wein + Almdudler',\n",
    "    'Wein + Cola',\n",
    "    'Wein + Frucade',\n",
    "]\n",
    "\n",
    "def create_drink_pref(num, drinks):\n",
    "    vals = []\n",
    "    for n in range(num):\n",
    "        choice = random.choice(drinks)\n",
    "        vals.append(choice)\n",
    "    return vals"
   ]
  },
  {
   "cell_type": "code",
   "execution_count": 5,
   "metadata": {},
   "outputs": [],
   "source": [
    "blocks = ['A', 'B', 'C', 'D', 'E', 'F']\n",
    "\n",
    "def create_time_pref(num, blocks):\n",
    "    vals = []\n",
    "    for n in range(num):\n",
    "        choice = random.choice(blocks)\n",
    "        vals.append(choice)\n",
    "    return vals"
   ]
  },
  {
   "cell_type": "code",
   "execution_count": 6,
   "metadata": {},
   "outputs": [],
   "source": [
    "df['drink_pref_player_1'] = create_drink_pref(100, drinks)\n",
    "df['drink_pref_player_2'] = create_drink_pref(100, drinks)\n",
    "df['time_pref'] = create_time_pref(100, blocks)"
   ]
  },
  {
   "cell_type": "code",
   "execution_count": 7,
   "metadata": {},
   "outputs": [
    {
     "output_type": "execute_result",
     "data": {
      "text/plain": [
       "                      email first_name_player_1 last_name_player_1  \\\n",
       "0          jatheis0@nps.gov               Howey        Dobrowolski   \n",
       "1          mdaborn1@icq.com                 Asa             Morbey   \n",
       "2        kjarman2@alexa.com              Alleyn              Malek   \n",
       "3  cgration3@shareasale.com            Samantha            Bidnall   \n",
       "4   rchapiro4@aboutads.info               Blake             Lenham   \n",
       "\n",
       "  first_name_player_2 last_name_player_2      phone_number  \\\n",
       "0               Jonas             Atheis  +86 604 130 3530   \n",
       "1           Margarita             Daborn  +55 761 157 9026   \n",
       "2              Krissy             Jarman   +7 749 429 9628   \n",
       "3             Camilla            Gration  +86 291 891 5655   \n",
       "4              Rudolf            Chapiro  +86 276 440 7729   \n",
       "\n",
       "  drink_pref_player_1 drink_pref_player_2 time_pref  \n",
       "0      Wein + Frucade    Wein + Almdudler         B  \n",
       "1      Wein + Mineral         Wein + Cola         D  \n",
       "2                Bier      Wein + Mineral         F  \n",
       "3      Wein + Frucade    Wein + Almdudler         F  \n",
       "4    Wein + Almdudler         Wein + Cola         F  "
      ],
      "text/html": "<div>\n<style scoped>\n    .dataframe tbody tr th:only-of-type {\n        vertical-align: middle;\n    }\n\n    .dataframe tbody tr th {\n        vertical-align: top;\n    }\n\n    .dataframe thead th {\n        text-align: right;\n    }\n</style>\n<table border=\"1\" class=\"dataframe\">\n  <thead>\n    <tr style=\"text-align: right;\">\n      <th></th>\n      <th>email</th>\n      <th>first_name_player_1</th>\n      <th>last_name_player_1</th>\n      <th>first_name_player_2</th>\n      <th>last_name_player_2</th>\n      <th>phone_number</th>\n      <th>drink_pref_player_1</th>\n      <th>drink_pref_player_2</th>\n      <th>time_pref</th>\n    </tr>\n  </thead>\n  <tbody>\n    <tr>\n      <th>0</th>\n      <td>jatheis0@nps.gov</td>\n      <td>Howey</td>\n      <td>Dobrowolski</td>\n      <td>Jonas</td>\n      <td>Atheis</td>\n      <td>+86 604 130 3530</td>\n      <td>Wein + Frucade</td>\n      <td>Wein + Almdudler</td>\n      <td>B</td>\n    </tr>\n    <tr>\n      <th>1</th>\n      <td>mdaborn1@icq.com</td>\n      <td>Asa</td>\n      <td>Morbey</td>\n      <td>Margarita</td>\n      <td>Daborn</td>\n      <td>+55 761 157 9026</td>\n      <td>Wein + Mineral</td>\n      <td>Wein + Cola</td>\n      <td>D</td>\n    </tr>\n    <tr>\n      <th>2</th>\n      <td>kjarman2@alexa.com</td>\n      <td>Alleyn</td>\n      <td>Malek</td>\n      <td>Krissy</td>\n      <td>Jarman</td>\n      <td>+7 749 429 9628</td>\n      <td>Bier</td>\n      <td>Wein + Mineral</td>\n      <td>F</td>\n    </tr>\n    <tr>\n      <th>3</th>\n      <td>cgration3@shareasale.com</td>\n      <td>Samantha</td>\n      <td>Bidnall</td>\n      <td>Camilla</td>\n      <td>Gration</td>\n      <td>+86 291 891 5655</td>\n      <td>Wein + Frucade</td>\n      <td>Wein + Almdudler</td>\n      <td>F</td>\n    </tr>\n    <tr>\n      <th>4</th>\n      <td>rchapiro4@aboutads.info</td>\n      <td>Blake</td>\n      <td>Lenham</td>\n      <td>Rudolf</td>\n      <td>Chapiro</td>\n      <td>+86 276 440 7729</td>\n      <td>Wein + Almdudler</td>\n      <td>Wein + Cola</td>\n      <td>F</td>\n    </tr>\n  </tbody>\n</table>\n</div>"
     },
     "metadata": {},
     "execution_count": 7
    }
   ],
   "source": [
    "df.head()"
   ]
  },
  {
   "cell_type": "code",
   "execution_count": 8,
   "metadata": {},
   "outputs": [],
   "source": [
    "df.to_csv('./mock_data.csv', index=False)"
   ]
  }
 ]
}