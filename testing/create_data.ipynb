{
 "metadata": {
  "language_info": {
   "codemirror_mode": {
    "name": "ipython",
    "version": 3
   },
   "file_extension": ".py",
   "mimetype": "text/x-python",
   "name": "python",
   "nbconvert_exporter": "python",
   "pygments_lexer": "ipython3",
   "version": "3.7.3-final"
  },
  "orig_nbformat": 2,
  "kernelspec": {
   "name": "python3",
   "display_name": "Python 3",
   "language": "python"
  }
 },
 "nbformat": 4,
 "nbformat_minor": 2,
 "cells": [
  {
   "cell_type": "code",
   "execution_count": 8,
   "metadata": {},
   "outputs": [],
   "source": [
    "import pandas as pd\n",
    "import numpy as np\n",
    "import random"
   ]
  },
  {
   "cell_type": "code",
   "execution_count": 9,
   "metadata": {},
   "outputs": [],
   "source": [
    "df = pd.read_csv('./MOCK_DATA.csv')"
   ]
  },
  {
   "cell_type": "code",
   "execution_count": null,
   "metadata": {},
   "outputs": [],
   "source": [
    "def create_field_with_blank(num, choices):\n",
    "    vals = []\n",
    "    for n in range(num):\n",
    "        choice = random.choice(drinks)\n",
    "        if random.random() < 0.3:\n",
    "            choice = None\n",
    "        vals.append(choice)\n",
    "    return vals"
   ]
  },
  {
   "cell_type": "code",
   "execution_count": 10,
   "metadata": {},
   "outputs": [],
   "source": [
    "drinks = [\n",
    "    'Bier',\n",
    "    'Wein + Mineral',\n",
    "    'Wein + Almdudler',\n",
    "    'Wein + Cola',\n",
    "    'Wein + Frucade',\n",
    "]\n",
    "\n",
    "def create_drink_pref(num=90, drinks):\n",
    "    vals = []\n",
    "    for n in range(num):\n",
    "        choice = random.choice(drinks)\n",
    "        if random.random() < 0.3:\n",
    "            choice = None\n",
    "        vals.append(choice)\n",
    "    return vals"
   ]
  },
  {
   "cell_type": "code",
   "execution_count": 11,
   "metadata": {},
   "outputs": [],
   "source": [
    "def create_time_pref(num=100):\n",
    "    vals = []\n",
    "    for n in range(num):\n",
    "        choice = random.choice(['Start', 'Ende', 'Mitte'])\n",
    "        if random.random() < 0.3:\n",
    "            choice = None\n",
    "        vals.append(choice)\n",
    "    return vals"
   ]
  },
  {
   "cell_type": "code",
   "execution_count": 12,
   "metadata": {},
   "outputs": [],
   "source": [
    "df['drink_pref'] = create_drink_pref()\n",
    "df['time_pref'] = create_time_pref()"
   ]
  },
  {
   "cell_type": "code",
   "execution_count": 13,
   "metadata": {},
   "outputs": [
    {
     "output_type": "execute_result",
     "data": {
      "text/plain": [
       "                     email first_name_1 last_name_1 first_name_2 last_name_2  \\\n",
       "0      pphelan0@tripod.com         Hube   Roebottom      Peterus      Phelan   \n",
       "1   reastwood1@oaic.gov.au      Brenden   Theobalds      Randall    Eastwood   \n",
       "2      mbanford2@imgur.com       Vivian    Stennard       Mervin     Banford   \n",
       "3  gmedley3@deviantart.com       Trefor    Runacres     Gradeigh      Medley   \n",
       "4      lkelsall4@baidu.com     Hernando      Girtin     Laetitia     Kelsall   \n",
       "\n",
       "  drink_pref time_pref  \n",
       "0       Wein      None  \n",
       "1       None      Ende  \n",
       "2       Wein     Start  \n",
       "3       Bier      Ende  \n",
       "4       None     Mitte  "
      ],
      "text/html": "<div>\n<style scoped>\n    .dataframe tbody tr th:only-of-type {\n        vertical-align: middle;\n    }\n\n    .dataframe tbody tr th {\n        vertical-align: top;\n    }\n\n    .dataframe thead th {\n        text-align: right;\n    }\n</style>\n<table border=\"1\" class=\"dataframe\">\n  <thead>\n    <tr style=\"text-align: right;\">\n      <th></th>\n      <th>email</th>\n      <th>first_name_1</th>\n      <th>last_name_1</th>\n      <th>first_name_2</th>\n      <th>last_name_2</th>\n      <th>drink_pref</th>\n      <th>time_pref</th>\n    </tr>\n  </thead>\n  <tbody>\n    <tr>\n      <th>0</th>\n      <td>pphelan0@tripod.com</td>\n      <td>Hube</td>\n      <td>Roebottom</td>\n      <td>Peterus</td>\n      <td>Phelan</td>\n      <td>Wein</td>\n      <td>None</td>\n    </tr>\n    <tr>\n      <th>1</th>\n      <td>reastwood1@oaic.gov.au</td>\n      <td>Brenden</td>\n      <td>Theobalds</td>\n      <td>Randall</td>\n      <td>Eastwood</td>\n      <td>None</td>\n      <td>Ende</td>\n    </tr>\n    <tr>\n      <th>2</th>\n      <td>mbanford2@imgur.com</td>\n      <td>Vivian</td>\n      <td>Stennard</td>\n      <td>Mervin</td>\n      <td>Banford</td>\n      <td>Wein</td>\n      <td>Start</td>\n    </tr>\n    <tr>\n      <th>3</th>\n      <td>gmedley3@deviantart.com</td>\n      <td>Trefor</td>\n      <td>Runacres</td>\n      <td>Gradeigh</td>\n      <td>Medley</td>\n      <td>Bier</td>\n      <td>Ende</td>\n    </tr>\n    <tr>\n      <th>4</th>\n      <td>lkelsall4@baidu.com</td>\n      <td>Hernando</td>\n      <td>Girtin</td>\n      <td>Laetitia</td>\n      <td>Kelsall</td>\n      <td>None</td>\n      <td>Mitte</td>\n    </tr>\n  </tbody>\n</table>\n</div>"
     },
     "metadata": {},
     "execution_count": 13
    }
   ],
   "source": [
    "df.head()"
   ]
  },
  {
   "cell_type": "code",
   "execution_count": 14,
   "metadata": {},
   "outputs": [],
   "source": [
    "df.to_csv('./mock_data.csv', index=False)"
   ]
  }
 ]
}